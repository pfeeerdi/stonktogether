{
 "cells": [
  {
   "cell_type": "code",
   "execution_count": 3,
   "metadata": {},
   "outputs": [
    {
     "name": "stdout",
     "output_type": "stream",
     "text": [
      "Collecting plotly\n",
      "  Downloading plotly-5.5.0-py2.py3-none-any.whl (26.5 MB)\n",
      "\u001b[K     |████████████████████████████████| 26.5 MB 294 kB/s eta 0:00:01\n",
      "\u001b[?25hCollecting tenacity>=6.2.0\n",
      "  Downloading tenacity-8.0.1-py3-none-any.whl (24 kB)\n",
      "Requirement already satisfied: six in /Users/femu/opt/anaconda3/envs/dhbw/lib/python3.7/site-packages (from plotly) (1.16.0)\n",
      "Installing collected packages: tenacity, plotly\n",
      "Successfully installed plotly-5.5.0 tenacity-8.0.1\n"
     ]
    }
   ],
   "source": [
    "import pandas as pd\n",
    "import numpy as np\n",
    "import plotly.express as px\n",
    "import plotly.graph_objects as go\n",
    "import statistics\n",
    "import scipy\n",
    "from scipy import signal"
   ]
  },
  {
   "cell_type": "markdown",
   "metadata": {},
   "source": [
    "# Vaccine sentiment visualization"
   ]
  },
  {
   "cell_type": "code",
   "execution_count": 4,
   "metadata": {},
   "outputs": [],
   "source": [
    "tweets = pd.read_csv(\"../sentiment/saved_sentiment_data/tweet_complete.csv\", index_col=0, converters={'hashtags': eval, 'sentiment':eval})"
   ]
  },
  {
   "cell_type": "code",
   "execution_count": 5,
   "metadata": {},
   "outputs": [
    {
     "data": {
      "text/html": [
       "<div>\n",
       "<style scoped>\n",
       "    .dataframe tbody tr th:only-of-type {\n",
       "        vertical-align: middle;\n",
       "    }\n",
       "\n",
       "    .dataframe tbody tr th {\n",
       "        vertical-align: top;\n",
       "    }\n",
       "\n",
       "    .dataframe thead th {\n",
       "        text-align: right;\n",
       "    }\n",
       "</style>\n",
       "<table border=\"1\" class=\"dataframe\">\n",
       "  <thead>\n",
       "    <tr style=\"text-align: right;\">\n",
       "      <th></th>\n",
       "      <th>id</th>\n",
       "      <th>user</th>\n",
       "      <th>text</th>\n",
       "      <th>created_at</th>\n",
       "      <th>location</th>\n",
       "      <th>sentiment</th>\n",
       "      <th>sentiment_compound</th>\n",
       "    </tr>\n",
       "  </thead>\n",
       "  <tbody>\n",
       "    <tr>\n",
       "      <th>0</th>\n",
       "      <td>1486094472798629888</td>\n",
       "      <td>BrizendineSean</td>\n",
       "      <td>dip yet say bitcoin derivative data show trade...</td>\n",
       "      <td>2022-01-25 21:51:47+00:00</td>\n",
       "      <td>Santa Rosa, California</td>\n",
       "      <td>{'neg': 0.0, 'neu': 1.0, 'pos': 0.0, 'compound...</td>\n",
       "      <td>0.000</td>\n",
       "    </tr>\n",
       "    <tr>\n",
       "      <th>1</th>\n",
       "      <td>1486094471980802059</td>\n",
       "      <td>yashi_jr</td>\n",
       "      <td>cryptopy buying dip bitcoin breakout bullishaf...</td>\n",
       "      <td>2022-01-25 21:51:47+00:00</td>\n",
       "      <td>NaN</td>\n",
       "      <td>{'neg': 0.0, 'neu': 1.0, 'pos': 0.0, 'compound...</td>\n",
       "      <td>0.000</td>\n",
       "    </tr>\n",
       "    <tr>\n",
       "      <th>2</th>\n",
       "      <td>1486094470906978305</td>\n",
       "      <td>jillpembrook</td>\n",
       "      <td>trading bitcoin real first thought wa</td>\n",
       "      <td>2022-01-25 21:51:46+00:00</td>\n",
       "      <td>United States</td>\n",
       "      <td>{'neg': 0.0, 'neu': 1.0, 'pos': 0.0, 'compound...</td>\n",
       "      <td>0.000</td>\n",
       "    </tr>\n",
       "    <tr>\n",
       "      <th>3</th>\n",
       "      <td>1486094470575792128</td>\n",
       "      <td>Btc_Kgee</td>\n",
       "      <td>might marry white girl cause atleast believe b...</td>\n",
       "      <td>2022-01-25 21:51:46+00:00</td>\n",
       "      <td>South Africa</td>\n",
       "      <td>{'neg': 0.0, 'neu': 1.0, 'pos': 0.0, 'compound...</td>\n",
       "      <td>0.000</td>\n",
       "    </tr>\n",
       "    <tr>\n",
       "      <th>4</th>\n",
       "      <td>1486094466557657088</td>\n",
       "      <td>StandardFine</td>\n",
       "      <td>bitcoin pop glad buy mess</td>\n",
       "      <td>2022-01-25 21:51:45+00:00</td>\n",
       "      <td>Milano</td>\n",
       "      <td>{'neg': 0.294, 'neu': 0.353, 'pos': 0.353, 'co...</td>\n",
       "      <td>0.128</td>\n",
       "    </tr>\n",
       "  </tbody>\n",
       "</table>\n",
       "</div>"
      ],
      "text/plain": [
       "                    id            user  \\\n",
       "0  1486094472798629888  BrizendineSean   \n",
       "1  1486094471980802059        yashi_jr   \n",
       "2  1486094470906978305    jillpembrook   \n",
       "3  1486094470575792128        Btc_Kgee   \n",
       "4  1486094466557657088    StandardFine   \n",
       "\n",
       "                                                text  \\\n",
       "0  dip yet say bitcoin derivative data show trade...   \n",
       "1  cryptopy buying dip bitcoin breakout bullishaf...   \n",
       "2              trading bitcoin real first thought wa   \n",
       "3  might marry white girl cause atleast believe b...   \n",
       "4                          bitcoin pop glad buy mess   \n",
       "\n",
       "                  created_at                 location  \\\n",
       "0  2022-01-25 21:51:47+00:00  Santa Rosa, California    \n",
       "1  2022-01-25 21:51:47+00:00                      NaN   \n",
       "2  2022-01-25 21:51:46+00:00            United States   \n",
       "3  2022-01-25 21:51:46+00:00             South Africa   \n",
       "4  2022-01-25 21:51:45+00:00                   Milano   \n",
       "\n",
       "                                           sentiment  sentiment_compound  \n",
       "0  {'neg': 0.0, 'neu': 1.0, 'pos': 0.0, 'compound...               0.000  \n",
       "1  {'neg': 0.0, 'neu': 1.0, 'pos': 0.0, 'compound...               0.000  \n",
       "2  {'neg': 0.0, 'neu': 1.0, 'pos': 0.0, 'compound...               0.000  \n",
       "3  {'neg': 0.0, 'neu': 1.0, 'pos': 0.0, 'compound...               0.000  \n",
       "4  {'neg': 0.294, 'neu': 0.353, 'pos': 0.353, 'co...               0.128  "
      ]
     },
     "execution_count": 5,
     "metadata": {},
     "output_type": "execute_result"
    }
   ],
   "source": [
    "tweets.head()"
   ]
  },
  {
   "cell_type": "markdown",
   "metadata": {},
   "source": [
    "---"
   ]
  },
  {
   "cell_type": "markdown",
   "metadata": {},
   "source": [
    "# Positive, negative and neutral sentiment"
   ]
  },
  {
   "cell_type": "markdown",
   "metadata": {},
   "source": [
    "Split the sentiment three ways to generate discrete variables:\n",
    "- any sentiment less than -0.33 is negative, above 0.33 is positive and anything in between is neutral"
   ]
  },
  {
   "cell_type": "code",
   "execution_count": 6,
   "metadata": {},
   "outputs": [],
   "source": [
    "pos_sentiment = [sentiment for sentiment in tweets[\"sentiment_compound\"] if (sentiment >= 0.33)]\n",
    "neg_sentiment = [sentiment for sentiment in tweets[\"sentiment_compound\"] if (sentiment <= - 0.33)]\n",
    "neu_sentiment = [sentiment for sentiment in tweets[\"sentiment_compound\"] if (sentiment < 0.33 and sentiment > -0.33)]"
   ]
  },
  {
   "cell_type": "code",
   "execution_count": 12,
   "metadata": {},
   "outputs": [],
   "source": [
    "fig = px.box(\n",
    "    y=tweets[\"sentiment_compound\"],\n",
    "    title = \"Overall Sentiment\",\n",
    "    labels={\"y\":\"Sentiment\"})\n",
    "#fig.show()\n",
    "fig.write_html(\"Sentiment_Boxplot.html\")"
   ]
  },
  {
   "cell_type": "code",
   "execution_count": 13,
   "metadata": {},
   "outputs": [],
   "source": [
    "fig = px.bar(\n",
    "    x=[\"Positive\", \"Neutral\", \"Negative\"],\n",
    "    y=[len(pos_sentiment), len(neu_sentiment), len(neg_sentiment)],\n",
    "    title=\"Amount of tweets by sentiment\",\n",
    "    labels={\"x\":\"Sentiment\",\"y\":\"Amount of tweets\"})\n",
    "#fig.show()\n",
    "fig.write_html(\"Sentiment_Amount.html\")"
   ]
  },
  {
   "cell_type": "markdown",
   "metadata": {},
   "source": [
    "___"
   ]
  },
  {
   "cell_type": "markdown",
   "metadata": {},
   "source": [
    "## Google Trends analysis (w/ pytrends):"
   ]
  },
  {
   "cell_type": "code",
   "execution_count": 16,
   "metadata": {
    "scrolled": true
   },
   "outputs": [],
   "source": [
    "from pytrends.request import TrendReq"
   ]
  },
  {
   "cell_type": "code",
   "execution_count": 17,
   "metadata": {},
   "outputs": [],
   "source": [
    "def getRisingTrends(query, time, qtype=\"rising\"):\n",
    "    pytrend = TrendReq()\n",
    "    pytrend.build_payload(kw_list=[query], timeframe=time)\n",
    "    print(pytrend.related_queries()[query][qtype])"
   ]
  },
  {
   "cell_type": "code",
   "execution_count": 18,
   "metadata": {},
   "outputs": [
    {
     "name": "stdout",
     "output_type": "stream",
     "text": [
      "                           query  value\n",
      "0           bitcoin ban in india   3700\n",
      "1        bitcoin dominance chart    300\n",
      "2                   bitcoin drop    250\n",
      "3            bitcoin neden düştü    200\n",
      "4             bitcoin hoje dólar    200\n",
      "5            1 bitcoin kaç dolar    190\n",
      "6               bitcoin árfolyam    190\n",
      "7                   rivian stock    150\n",
      "8                   bitcoin city    140\n",
      "9              bitcoin haberleri    130\n",
      "10  cryptocurrency bitcoin price    130\n",
      "11               bitcoin creator    130\n",
      "12      fear greed index bitcoin    110\n",
      "13                  bitcoin rush    110\n",
      "14  fear and greed index bitcoin    110\n",
      "15              bitcoin haram mı    110\n",
      "16                           dax     90\n",
      "17              bitcoin hari ini     80\n",
      "18                bitcoin future     80\n",
      "19             bitcoin kaç dolar     70\n",
      "20          fear and greed index     70\n",
      "21        cryptocurrency bitcoin     70\n",
      "22          bitcoin hoje em real     70\n",
      "23                cryptocurrency     60\n",
      "24              bitcoin kurs usd     60\n"
     ]
    }
   ],
   "source": [
    "getRisingTrends(\"Bitcoin\", \"2021-11-15 2021-12-05\")"
   ]
  },
  {
   "cell_type": "code",
   "execution_count": 19,
   "metadata": {},
   "outputs": [
    {
     "name": "stdout",
     "output_type": "stream",
     "text": [
      "                           query  value\n",
      "0                     vvs crypto  37750\n",
      "1                 omicron crypto  32600\n",
      "2             vvs finance crypto  20250\n",
      "3      is crypto banned in india  10850\n",
      "4                   cocos crypto   6900\n",
      "5                   kasta crypto   6800\n",
      "6                lovelace crypto   6300\n",
      "7                    bico crypto   5550\n",
      "8               crypto ban india   5300\n",
      "9            crypto bull society   4000\n",
      "10                   mbox crypto   3200\n",
      "11           crypto ban in india   2500\n",
      "12        bomb crypto simulation   2250\n",
      "13  gala crypto price prediction   1900\n",
      "14                   crypto godz   1700\n",
      "15                   gyen crypto   1300\n",
      "16                   gala crypto   1150\n",
      "17                          gala   1000\n",
      "18             crypto bill india    900\n",
      "19             gala games crypto    850\n",
      "20      why is crypto down today    800\n",
      "21                    pkn crypto    700\n",
      "22        why is crypto crashing    650\n",
      "23             crypto news india    650\n",
      "24                    crypto ban    600\n"
     ]
    }
   ],
   "source": [
    "getRisingTrends(\"Crypto\", \"2021-11-15 2021-12-05\")"
   ]
  },
  {
   "cell_type": "code",
   "execution_count": 20,
   "metadata": {},
   "outputs": [
    {
     "name": "stdout",
     "output_type": "stream",
     "text": [
      "                                                query  value\n",
      "0                      merchant cash advance blursoft  51150\n",
      "1   personal injury attorney chicago chicagoaccide...  15300\n",
      "2                  project management software monday  14800\n",
      "3                          baccarat rouge 540 dossier  11200\n",
      "4                              kit kat cash and carry   5100\n",
      "5                                  johnny cash museum   5100\n",
      "6                                       delta 8 d8.co   4350\n",
      "7                              lincs fm cash register   4250\n",
      "8                   how to borrow money from cash app   3850\n",
      "9                                     cash movie 2021   1800\n",
      "10                                       cash hotstar   1500\n",
      "11                                   chevy cyber cash    550\n",
      "12                                   cash for life ny    500\n",
      "13                 cash pot results for today jamaica    250\n",
      "14                        what play in cash pot today    250\n",
      "15                                          cash 5 sc    250\n",
      "16                                    cash me outside    200\n",
      "17                                   is cash app safe    190\n",
      "18                                    goal cash haiti    180\n",
      "19                     how to delete cash app account    180\n",
      "20                                      jersey cash 5    170\n",
      "21                                         cash movie    150\n",
      "22                                   quick cash loans    140\n",
      "23                                        cash frenzy    120\n",
      "24                              forth 1 cash register    120\n"
     ]
    }
   ],
   "source": [
    "getRisingTrends(\"Cash\", \"2021-11-15 2021-12-05\")"
   ]
  },
  {
   "cell_type": "markdown",
   "metadata": {},
   "source": [
    "# Wordcloud"
   ]
  },
  {
   "cell_type": "markdown",
   "metadata": {},
   "source": [
    "Generate a wordcloud to get an overall idea what words are used/ common in the Dataset:"
   ]
  },
  {
   "cell_type": "code",
   "execution_count": 61,
   "metadata": {
    "scrolled": true
   },
   "outputs": [],
   "source": [
    "from wordcloud import WordCloud\n",
    "import matplotlib.pyplot as plt\n",
    "\n",
    "def generate_wordcloud(data, title=\"\", filename=\"\"):\n",
    "    text = \" \".join(t for t in data.dropna())\n",
    "    stopwords = [\"amp\", \"stonks\", \"https\", \"RT\", \"Retweet this\", \"Airdrop\", \"t co\", \"Link\"]\n",
    "    wordcloud = WordCloud(stopwords = stopwords, scale=4, max_font_size=50, max_words=200,background_color=\"white\").generate(text)\n",
    "    wordcloud.to_file(filename)"
   ]
  },
  {
   "cell_type": "code",
   "execution_count": 62,
   "metadata": {},
   "outputs": [],
   "source": [
    "generate_wordcloud(tweets[\"text\"], \"Most common Words among all tweets\", \"wordcloud_all.png\")"
   ]
  },
  {
   "cell_type": "code",
   "execution_count": 63,
   "metadata": {},
   "outputs": [],
   "source": [
    "generate_wordcloud(tweets[\"text\"][tweets[\"sentiment_compound\"] >= 0.33], \"Most common Words in tweets with positive sentiment\", \"wordcloud_positive.png\")"
   ]
  },
  {
   "cell_type": "code",
   "execution_count": 64,
   "metadata": {},
   "outputs": [],
   "source": [
    "generate_wordcloud(tweets[\"text\"][tweets[\"sentiment_compound\"] <= -0.33], \"Most common Words in tweets with negative sentiment\", \"wordcloud_negative.png\")"
   ]
  }
 ],
 "metadata": {
  "kernelspec": {
   "display_name": "Python 3 (ipykernel)",
   "language": "python",
   "name": "python3"
  },
  "language_info": {
   "codemirror_mode": {
    "name": "ipython",
    "version": 3
   },
   "file_extension": ".py",
   "mimetype": "text/x-python",
   "name": "python",
   "nbconvert_exporter": "python",
   "pygments_lexer": "ipython3",
   "version": "3.7.10"
  }
 },
 "nbformat": 4,
 "nbformat_minor": 4
}

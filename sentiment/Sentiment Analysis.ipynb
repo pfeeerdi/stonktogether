{
 "cells": [
  {
   "cell_type": "code",
   "execution_count": 47,
   "metadata": {},
   "outputs": [],
   "source": [
    "import pandas as pd\n",
    "import numpy\n",
    "pd.options.mode.chained_assignment = None"
   ]
  },
  {
   "cell_type": "markdown",
   "metadata": {},
   "source": [
    "# Sentiment analysis"
   ]
  },
  {
   "cell_type": "markdown",
   "metadata": {},
   "source": [
    "- Preprocessing\n",
    "    - remove URLs\n",
    "    - remove Stopwords\n",
    "    - Lemmatization\n",
    "- Sentiment Analysis with nltk"
   ]
  },
  {
   "cell_type": "markdown",
   "metadata": {},
   "source": [
    "# Crawling Tweets with Hashtag '?'"
   ]
  },
  {
   "cell_type": "code",
   "execution_count": 2,
   "metadata": {},
   "outputs": [],
   "source": [
    "#pip install tweepy"
   ]
  },
  {
   "cell_type": "code",
   "execution_count": 3,
   "metadata": {},
   "outputs": [],
   "source": [
    "import os\n",
    "import tweepy as tw"
   ]
  },
  {
   "cell_type": "code",
   "execution_count": 4,
   "metadata": {},
   "outputs": [],
   "source": [
    "consumer_key= 'vvoCCekgIRltBaA28KPeqV5PH'\n",
    "consumer_secret= 'wbJdfJgPQo6bojNVWtX2FoH8RNXMG7OA7xNis1HOS5tt4E3kN7'\n",
    "access_token= '216684460-uXpFa0MbWSjZyKrLLajc42VELc7GzFZPIs53PV3g'\n",
    "access_token_secret= 'quTUm4pTmVv9Uy2AZanWQcErohcDdoFWzUWg17pLtTriC'\n",
    "\n",
    "auth = tw.OAuthHandler(consumer_key, consumer_secret)\n",
    "auth.set_access_token(access_token, access_token_secret)\n",
    "api = tw.API(auth, wait_on_rate_limit=True)"
   ]
  },
  {
   "cell_type": "code",
   "execution_count": 14,
   "metadata": {},
   "outputs": [],
   "source": [
    "# Define the search term and the date_since date as variables\n",
    "search_words = \"bitcoin\"\n",
    "date_since = \"2022-01-22\""
   ]
  },
  {
   "cell_type": "code",
   "execution_count": 17,
   "metadata": {
    "scrolled": true
   },
   "outputs": [
    {
     "name": "stderr",
     "output_type": "stream",
     "text": [
      "Rate limit reached. Sleeping for: 55\n"
     ]
    }
   ],
   "source": [
    "tweets = tw.Cursor(api.search_tweets, \n",
    "                           q=search_words,\n",
    "                           lang=\"en\", #since=date_since\n",
    "                  ).items(2000)\n",
    "\n",
    "users_tweets = [[tweet.id, tweet.user.screen_name, tweet.text, tweet.created_at, tweet.user.location] for tweet in tweets]"
   ]
  },
  {
   "cell_type": "code",
   "execution_count": 18,
   "metadata": {
    "scrolled": true
   },
   "outputs": [
    {
     "data": {
      "text/html": [
       "<div>\n",
       "<style scoped>\n",
       "    .dataframe tbody tr th:only-of-type {\n",
       "        vertical-align: middle;\n",
       "    }\n",
       "\n",
       "    .dataframe tbody tr th {\n",
       "        vertical-align: top;\n",
       "    }\n",
       "\n",
       "    .dataframe thead th {\n",
       "        text-align: right;\n",
       "    }\n",
       "</style>\n",
       "<table border=\"1\" class=\"dataframe\">\n",
       "  <thead>\n",
       "    <tr style=\"text-align: right;\">\n",
       "      <th></th>\n",
       "      <th>id</th>\n",
       "      <th>user</th>\n",
       "      <th>text</th>\n",
       "      <th>created_at</th>\n",
       "      <th>location</th>\n",
       "    </tr>\n",
       "  </thead>\n",
       "  <tbody>\n",
       "    <tr>\n",
       "      <th>0</th>\n",
       "      <td>1486094472798629888</td>\n",
       "      <td>BrizendineSean</td>\n",
       "      <td>RT @Cointelegraph: The dip isn’t over just yet...</td>\n",
       "      <td>2022-01-25 21:51:47+00:00</td>\n",
       "      <td>Santa Rosa, California</td>\n",
       "    </tr>\n",
       "    <tr>\n",
       "      <th>1</th>\n",
       "      <td>1486094471980802059</td>\n",
       "      <td>yashi_jr</td>\n",
       "      <td>RT @__Cryptopy__: @TheMoonCarl I'm buying the ...</td>\n",
       "      <td>2022-01-25 21:51:47+00:00</td>\n",
       "      <td></td>\n",
       "    </tr>\n",
       "    <tr>\n",
       "      <th>2</th>\n",
       "      <td>1486094470906978305</td>\n",
       "      <td>jillpembrook</td>\n",
       "      <td>@devrima69799930 @NFTONETHWeb3 @MetaGiveaway T...</td>\n",
       "      <td>2022-01-25 21:51:46+00:00</td>\n",
       "      <td>United States</td>\n",
       "    </tr>\n",
       "    <tr>\n",
       "      <th>3</th>\n",
       "      <td>1486094470575792128</td>\n",
       "      <td>Btc_Kgee</td>\n",
       "      <td>I might marry a white girl cause atleast they ...</td>\n",
       "      <td>2022-01-25 21:51:46+00:00</td>\n",
       "      <td>South Africa</td>\n",
       "    </tr>\n",
       "    <tr>\n",
       "      <th>4</th>\n",
       "      <td>1486094466557657088</td>\n",
       "      <td>StandardFine</td>\n",
       "      <td>RT @NickAllen: Bitcoin down to $2.70 a pop. So...</td>\n",
       "      <td>2022-01-25 21:51:45+00:00</td>\n",
       "      <td>Milano</td>\n",
       "    </tr>\n",
       "  </tbody>\n",
       "</table>\n",
       "</div>"
      ],
      "text/plain": [
       "                    id            user  \\\n",
       "0  1486094472798629888  BrizendineSean   \n",
       "1  1486094471980802059        yashi_jr   \n",
       "2  1486094470906978305    jillpembrook   \n",
       "3  1486094470575792128        Btc_Kgee   \n",
       "4  1486094466557657088    StandardFine   \n",
       "\n",
       "                                                text  \\\n",
       "0  RT @Cointelegraph: The dip isn’t over just yet...   \n",
       "1  RT @__Cryptopy__: @TheMoonCarl I'm buying the ...   \n",
       "2  @devrima69799930 @NFTONETHWeb3 @MetaGiveaway T...   \n",
       "3  I might marry a white girl cause atleast they ...   \n",
       "4  RT @NickAllen: Bitcoin down to $2.70 a pop. So...   \n",
       "\n",
       "                 created_at                 location  \n",
       "0 2022-01-25 21:51:47+00:00  Santa Rosa, California   \n",
       "1 2022-01-25 21:51:47+00:00                           \n",
       "2 2022-01-25 21:51:46+00:00            United States  \n",
       "3 2022-01-25 21:51:46+00:00             South Africa  \n",
       "4 2022-01-25 21:51:45+00:00                   Milano  "
      ]
     },
     "execution_count": 18,
     "metadata": {},
     "output_type": "execute_result"
    }
   ],
   "source": [
    "#Open dataframe to use Sentiment Analysis\n",
    "tweet_text = pd.DataFrame(data=users_tweets, \n",
    "                    columns=['id', 'user', \"text\", \"created_at\", \"location\"])\n",
    "tweet_text.head()"
   ]
  },
  {
   "cell_type": "markdown",
   "metadata": {},
   "source": [
    "---"
   ]
  },
  {
   "cell_type": "code",
   "execution_count": 22,
   "metadata": {},
   "outputs": [],
   "source": [
    "#pip install nltk"
   ]
  },
  {
   "cell_type": "code",
   "execution_count": 23,
   "metadata": {
    "scrolled": true
   },
   "outputs": [],
   "source": [
    "import re\n",
    "import nltk\n",
    "from nltk.corpus import stopwords\n",
    "from nltk.stem.porter import PorterStemmer\n",
    "from nltk.sentiment import SentimentIntensityAnalyzer"
   ]
  },
  {
   "cell_type": "markdown",
   "metadata": {},
   "source": [
    "# NLP\n",
    "## Preprocessing"
   ]
  },
  {
   "cell_type": "code",
   "execution_count": 24,
   "metadata": {},
   "outputs": [],
   "source": [
    "dataset = tweet_text"
   ]
  },
  {
   "cell_type": "code",
   "execution_count": 29,
   "metadata": {},
   "outputs": [
    {
     "name": "stderr",
     "output_type": "stream",
     "text": [
      "[nltk_data] Downloading package stopwords to /Users/femu/nltk_data...\n",
      "[nltk_data]   Package stopwords is already up-to-date!\n",
      "[nltk_data] Downloading package wordnet to /Users/femu/nltk_data...\n",
      "[nltk_data]   Package wordnet is already up-to-date!\n",
      "[nltk_data] Downloading package vader_lexicon to\n",
      "[nltk_data]     /Users/femu/nltk_data...\n",
      "[nltk_data]   Package vader_lexicon is already up-to-date!\n",
      "[nltk_data] Downloading package omw-1.4 to /Users/femu/nltk_data...\n",
      "[nltk_data]   Unzipping corpora/omw-1.4.zip.\n"
     ]
    },
    {
     "data": {
      "text/plain": [
       "True"
      ]
     },
     "execution_count": 29,
     "metadata": {},
     "output_type": "execute_result"
    }
   ],
   "source": [
    "nltk.download('stopwords')\n",
    "nltk.download('wordnet')\n",
    "nltk.download('vader_lexicon')\n",
    "nltk.download('omw-1.4')"
   ]
  },
  {
   "cell_type": "markdown",
   "metadata": {},
   "source": [
    "Set lowercase, remove punctuation, remove url:\n",
    "- \"no\",\"nor\",\"not\" removed from stopwords because they may be relevant for sentiment"
   ]
  },
  {
   "cell_type": "code",
   "execution_count": 48,
   "metadata": {},
   "outputs": [],
   "source": [
    "#def clean_dataset(dataset):\n",
    "for i in range(0, len(dataset)):\n",
    "    #Tokenize and set words to lowercase \n",
    "    review = dataset[\"text\"][i]\n",
    "    review = ' '.join(re.sub(\"(@[A-Za-z0-9]+)|([^0-9A-Za-z \\t])|(\\w+:\\/\\/\\S+)\",\" \",review).split())\n",
    "    review = re.sub(\"[^a-zA-Z]\", \" \", review)\n",
    "    review = review.lower()\n",
    "    review = review.split()\n",
    "\n",
    "    #stopwords: \n",
    "    all_stopwords = [word for word in stopwords.words(\"english\") if word not in [\"no\",\"nor\",\"not\"]]\n",
    "    all_stopwords.extend([\"a\",\"b\",\"c\",\"d\",\"e\",\"f\",\"g\",\"h\",\"i\",\"j\",\"k\",\"l\",\"m\",\"n\",\"o\",\"p\",\"q\",\"r\",\"s\",\"t\",\"u\",\"v\",\"w\",\"x\",\"y\",\"z\",\"&amp\",\"amp\",\"amp;\",\"&amp;\",\"nhs\", \"rt\"])\n",
    "    #lemmatization:\n",
    "    lemma = nltk.wordnet.WordNetLemmatizer()\n",
    "    review = \" \".join([lemma.lemmatize(word) for word in review if word not in set(all_stopwords)])    \n",
    "    dataset[\"text\"][i] = review\n"
   ]
  },
  {
   "cell_type": "code",
   "execution_count": 36,
   "metadata": {},
   "outputs": [
    {
     "data": {
      "text/html": [
       "<div>\n",
       "<style scoped>\n",
       "    .dataframe tbody tr th:only-of-type {\n",
       "        vertical-align: middle;\n",
       "    }\n",
       "\n",
       "    .dataframe tbody tr th {\n",
       "        vertical-align: top;\n",
       "    }\n",
       "\n",
       "    .dataframe thead th {\n",
       "        text-align: right;\n",
       "    }\n",
       "</style>\n",
       "<table border=\"1\" class=\"dataframe\">\n",
       "  <thead>\n",
       "    <tr style=\"text-align: right;\">\n",
       "      <th></th>\n",
       "      <th>id</th>\n",
       "      <th>user</th>\n",
       "      <th>text</th>\n",
       "      <th>created_at</th>\n",
       "      <th>location</th>\n",
       "    </tr>\n",
       "  </thead>\n",
       "  <tbody>\n",
       "    <tr>\n",
       "      <th>0</th>\n",
       "      <td>1486094472798629888</td>\n",
       "      <td>BrizendineSean</td>\n",
       "      <td>dip yet say bitcoin derivative data show trade...</td>\n",
       "      <td>2022-01-25 21:51:47+00:00</td>\n",
       "      <td>Santa Rosa, California</td>\n",
       "    </tr>\n",
       "    <tr>\n",
       "      <th>1</th>\n",
       "      <td>1486094471980802059</td>\n",
       "      <td>yashi_jr</td>\n",
       "      <td>cryptopy buying dip bitcoin breakout bullishaf...</td>\n",
       "      <td>2022-01-25 21:51:47+00:00</td>\n",
       "      <td></td>\n",
       "    </tr>\n",
       "    <tr>\n",
       "      <th>2</th>\n",
       "      <td>1486094470906978305</td>\n",
       "      <td>jillpembrook</td>\n",
       "      <td>trading bitcoin real first thought wa</td>\n",
       "      <td>2022-01-25 21:51:46+00:00</td>\n",
       "      <td>United States</td>\n",
       "    </tr>\n",
       "    <tr>\n",
       "      <th>3</th>\n",
       "      <td>1486094470575792128</td>\n",
       "      <td>Btc_Kgee</td>\n",
       "      <td>might marry white girl cause atleast believe b...</td>\n",
       "      <td>2022-01-25 21:51:46+00:00</td>\n",
       "      <td>South Africa</td>\n",
       "    </tr>\n",
       "    <tr>\n",
       "      <th>4</th>\n",
       "      <td>1486094466557657088</td>\n",
       "      <td>StandardFine</td>\n",
       "      <td>bitcoin pop glad buy mess</td>\n",
       "      <td>2022-01-25 21:51:45+00:00</td>\n",
       "      <td>Milano</td>\n",
       "    </tr>\n",
       "  </tbody>\n",
       "</table>\n",
       "</div>"
      ],
      "text/plain": [
       "                    id            user  \\\n",
       "0  1486094472798629888  BrizendineSean   \n",
       "1  1486094471980802059        yashi_jr   \n",
       "2  1486094470906978305    jillpembrook   \n",
       "3  1486094470575792128        Btc_Kgee   \n",
       "4  1486094466557657088    StandardFine   \n",
       "\n",
       "                                                text  \\\n",
       "0  dip yet say bitcoin derivative data show trade...   \n",
       "1  cryptopy buying dip bitcoin breakout bullishaf...   \n",
       "2              trading bitcoin real first thought wa   \n",
       "3  might marry white girl cause atleast believe b...   \n",
       "4                          bitcoin pop glad buy mess   \n",
       "\n",
       "                 created_at                 location  \n",
       "0 2022-01-25 21:51:47+00:00  Santa Rosa, California   \n",
       "1 2022-01-25 21:51:47+00:00                           \n",
       "2 2022-01-25 21:51:46+00:00            United States  \n",
       "3 2022-01-25 21:51:46+00:00             South Africa  \n",
       "4 2022-01-25 21:51:45+00:00                   Milano  "
      ]
     },
     "execution_count": 36,
     "metadata": {},
     "output_type": "execute_result"
    }
   ],
   "source": [
    "dataset.head()"
   ]
  },
  {
   "cell_type": "markdown",
   "metadata": {},
   "source": [
    "## Sentiment Analysis with nltk"
   ]
  },
  {
   "cell_type": "code",
   "execution_count": 37,
   "metadata": {},
   "outputs": [],
   "source": [
    "tweet_text[\"sentiment\"] = dict\n",
    "tweet_text[\"sentiment_compound\"] = 0.0"
   ]
  },
  {
   "cell_type": "markdown",
   "metadata": {},
   "source": [
    "Determine sentiment via NLTK.Sentiment:\n",
    "- Values range from [-1, 1]\n",
    "- -1 is negative, 0 is neutral, 1 is positive"
   ]
  },
  {
   "cell_type": "code",
   "execution_count": 49,
   "metadata": {},
   "outputs": [],
   "source": [
    "def sentiment_score(dataset):\n",
    "    sia = SentimentIntensityAnalyzer()\n",
    "    for i in range(len(dataset)):\n",
    "        dataset[\"sentiment\"][i] = sia.polarity_scores(dataset[\"text\"][i])\n",
    "        dataset[\"sentiment_compound\"][i] = dataset[\"sentiment\"][i][\"compound\"]"
   ]
  },
  {
   "cell_type": "code",
   "execution_count": 50,
   "metadata": {},
   "outputs": [],
   "source": [
    "sentiment_score(tweet_text)"
   ]
  },
  {
   "cell_type": "code",
   "execution_count": 51,
   "metadata": {},
   "outputs": [
    {
     "data": {
      "text/html": [
       "<div>\n",
       "<style scoped>\n",
       "    .dataframe tbody tr th:only-of-type {\n",
       "        vertical-align: middle;\n",
       "    }\n",
       "\n",
       "    .dataframe tbody tr th {\n",
       "        vertical-align: top;\n",
       "    }\n",
       "\n",
       "    .dataframe thead th {\n",
       "        text-align: right;\n",
       "    }\n",
       "</style>\n",
       "<table border=\"1\" class=\"dataframe\">\n",
       "  <thead>\n",
       "    <tr style=\"text-align: right;\">\n",
       "      <th></th>\n",
       "      <th>id</th>\n",
       "      <th>user</th>\n",
       "      <th>text</th>\n",
       "      <th>created_at</th>\n",
       "      <th>location</th>\n",
       "      <th>sentiment</th>\n",
       "      <th>sentiment_compound</th>\n",
       "    </tr>\n",
       "  </thead>\n",
       "  <tbody>\n",
       "    <tr>\n",
       "      <th>0</th>\n",
       "      <td>1486094472798629888</td>\n",
       "      <td>BrizendineSean</td>\n",
       "      <td>dip yet say bitcoin derivative data show trade...</td>\n",
       "      <td>2022-01-25 21:51:47+00:00</td>\n",
       "      <td>Santa Rosa, California</td>\n",
       "      <td>{'neg': 0.0, 'neu': 1.0, 'pos': 0.0, 'compound...</td>\n",
       "      <td>0.000</td>\n",
       "    </tr>\n",
       "    <tr>\n",
       "      <th>1</th>\n",
       "      <td>1486094471980802059</td>\n",
       "      <td>yashi_jr</td>\n",
       "      <td>cryptopy buying dip bitcoin breakout bullishaf...</td>\n",
       "      <td>2022-01-25 21:51:47+00:00</td>\n",
       "      <td></td>\n",
       "      <td>{'neg': 0.0, 'neu': 1.0, 'pos': 0.0, 'compound...</td>\n",
       "      <td>0.000</td>\n",
       "    </tr>\n",
       "    <tr>\n",
       "      <th>2</th>\n",
       "      <td>1486094470906978305</td>\n",
       "      <td>jillpembrook</td>\n",
       "      <td>trading bitcoin real first thought wa</td>\n",
       "      <td>2022-01-25 21:51:46+00:00</td>\n",
       "      <td>United States</td>\n",
       "      <td>{'neg': 0.0, 'neu': 1.0, 'pos': 0.0, 'compound...</td>\n",
       "      <td>0.000</td>\n",
       "    </tr>\n",
       "    <tr>\n",
       "      <th>3</th>\n",
       "      <td>1486094470575792128</td>\n",
       "      <td>Btc_Kgee</td>\n",
       "      <td>might marry white girl cause atleast believe b...</td>\n",
       "      <td>2022-01-25 21:51:46+00:00</td>\n",
       "      <td>South Africa</td>\n",
       "      <td>{'neg': 0.0, 'neu': 1.0, 'pos': 0.0, 'compound...</td>\n",
       "      <td>0.000</td>\n",
       "    </tr>\n",
       "    <tr>\n",
       "      <th>4</th>\n",
       "      <td>1486094466557657088</td>\n",
       "      <td>StandardFine</td>\n",
       "      <td>bitcoin pop glad buy mess</td>\n",
       "      <td>2022-01-25 21:51:45+00:00</td>\n",
       "      <td>Milano</td>\n",
       "      <td>{'neg': 0.294, 'neu': 0.353, 'pos': 0.353, 'co...</td>\n",
       "      <td>0.128</td>\n",
       "    </tr>\n",
       "  </tbody>\n",
       "</table>\n",
       "</div>"
      ],
      "text/plain": [
       "                    id            user  \\\n",
       "0  1486094472798629888  BrizendineSean   \n",
       "1  1486094471980802059        yashi_jr   \n",
       "2  1486094470906978305    jillpembrook   \n",
       "3  1486094470575792128        Btc_Kgee   \n",
       "4  1486094466557657088    StandardFine   \n",
       "\n",
       "                                                text  \\\n",
       "0  dip yet say bitcoin derivative data show trade...   \n",
       "1  cryptopy buying dip bitcoin breakout bullishaf...   \n",
       "2              trading bitcoin real first thought wa   \n",
       "3  might marry white girl cause atleast believe b...   \n",
       "4                          bitcoin pop glad buy mess   \n",
       "\n",
       "                 created_at                 location  \\\n",
       "0 2022-01-25 21:51:47+00:00  Santa Rosa, California    \n",
       "1 2022-01-25 21:51:47+00:00                            \n",
       "2 2022-01-25 21:51:46+00:00            United States   \n",
       "3 2022-01-25 21:51:46+00:00             South Africa   \n",
       "4 2022-01-25 21:51:45+00:00                   Milano   \n",
       "\n",
       "                                           sentiment  sentiment_compound  \n",
       "0  {'neg': 0.0, 'neu': 1.0, 'pos': 0.0, 'compound...               0.000  \n",
       "1  {'neg': 0.0, 'neu': 1.0, 'pos': 0.0, 'compound...               0.000  \n",
       "2  {'neg': 0.0, 'neu': 1.0, 'pos': 0.0, 'compound...               0.000  \n",
       "3  {'neg': 0.0, 'neu': 1.0, 'pos': 0.0, 'compound...               0.000  \n",
       "4  {'neg': 0.294, 'neu': 0.353, 'pos': 0.353, 'co...               0.128  "
      ]
     },
     "execution_count": 51,
     "metadata": {},
     "output_type": "execute_result"
    }
   ],
   "source": [
    "tweet_text.head()"
   ]
  },
  {
   "cell_type": "code",
   "execution_count": 52,
   "metadata": {},
   "outputs": [],
   "source": [
    "tweet_ids = tweet_text[['id', 'sentiment', 'sentiment_compound']]"
   ]
  },
  {
   "cell_type": "code",
   "execution_count": 53,
   "metadata": {},
   "outputs": [
    {
     "data": {
      "text/html": [
       "<div>\n",
       "<style scoped>\n",
       "    .dataframe tbody tr th:only-of-type {\n",
       "        vertical-align: middle;\n",
       "    }\n",
       "\n",
       "    .dataframe tbody tr th {\n",
       "        vertical-align: top;\n",
       "    }\n",
       "\n",
       "    .dataframe thead th {\n",
       "        text-align: right;\n",
       "    }\n",
       "</style>\n",
       "<table border=\"1\" class=\"dataframe\">\n",
       "  <thead>\n",
       "    <tr style=\"text-align: right;\">\n",
       "      <th></th>\n",
       "      <th>id</th>\n",
       "      <th>sentiment</th>\n",
       "      <th>sentiment_compound</th>\n",
       "    </tr>\n",
       "  </thead>\n",
       "  <tbody>\n",
       "    <tr>\n",
       "      <th>0</th>\n",
       "      <td>1486094472798629888</td>\n",
       "      <td>{'neg': 0.0, 'neu': 1.0, 'pos': 0.0, 'compound...</td>\n",
       "      <td>0.000</td>\n",
       "    </tr>\n",
       "    <tr>\n",
       "      <th>1</th>\n",
       "      <td>1486094471980802059</td>\n",
       "      <td>{'neg': 0.0, 'neu': 1.0, 'pos': 0.0, 'compound...</td>\n",
       "      <td>0.000</td>\n",
       "    </tr>\n",
       "    <tr>\n",
       "      <th>2</th>\n",
       "      <td>1486094470906978305</td>\n",
       "      <td>{'neg': 0.0, 'neu': 1.0, 'pos': 0.0, 'compound...</td>\n",
       "      <td>0.000</td>\n",
       "    </tr>\n",
       "    <tr>\n",
       "      <th>3</th>\n",
       "      <td>1486094470575792128</td>\n",
       "      <td>{'neg': 0.0, 'neu': 1.0, 'pos': 0.0, 'compound...</td>\n",
       "      <td>0.000</td>\n",
       "    </tr>\n",
       "    <tr>\n",
       "      <th>4</th>\n",
       "      <td>1486094466557657088</td>\n",
       "      <td>{'neg': 0.294, 'neu': 0.353, 'pos': 0.353, 'co...</td>\n",
       "      <td>0.128</td>\n",
       "    </tr>\n",
       "  </tbody>\n",
       "</table>\n",
       "</div>"
      ],
      "text/plain": [
       "                    id                                          sentiment  \\\n",
       "0  1486094472798629888  {'neg': 0.0, 'neu': 1.0, 'pos': 0.0, 'compound...   \n",
       "1  1486094471980802059  {'neg': 0.0, 'neu': 1.0, 'pos': 0.0, 'compound...   \n",
       "2  1486094470906978305  {'neg': 0.0, 'neu': 1.0, 'pos': 0.0, 'compound...   \n",
       "3  1486094470575792128  {'neg': 0.0, 'neu': 1.0, 'pos': 0.0, 'compound...   \n",
       "4  1486094466557657088  {'neg': 0.294, 'neu': 0.353, 'pos': 0.353, 'co...   \n",
       "\n",
       "   sentiment_compound  \n",
       "0               0.000  \n",
       "1               0.000  \n",
       "2               0.000  \n",
       "3               0.000  \n",
       "4               0.128  "
      ]
     },
     "execution_count": 53,
     "metadata": {},
     "output_type": "execute_result"
    }
   ],
   "source": [
    "tweet_ids.head()"
   ]
  },
  {
   "cell_type": "markdown",
   "metadata": {},
   "source": [
    "Sort dataset by sentiment and create a sub-dataset with location only:"
   ]
  },
  {
   "cell_type": "code",
   "execution_count": 54,
   "metadata": {},
   "outputs": [],
   "source": [
    "tweet_ids = tweet_text.sort_values(\"sentiment_compound\", ascending=False, ignore_index=True)"
   ]
  },
  {
   "cell_type": "markdown",
   "metadata": {},
   "source": [
    "---"
   ]
  },
  {
   "cell_type": "markdown",
   "metadata": {},
   "source": [
    "Export:"
   ]
  },
  {
   "cell_type": "code",
   "execution_count": 55,
   "metadata": {},
   "outputs": [],
   "source": [
    "tweet_ids.to_csv(\"../sentiment/saved_tweet_ids/tweet_ids.csv\")\n",
    "tweet_text.to_csv(\"saved_sentiment_data/tweet_complete.csv\")"
   ]
  }
 ],
 "metadata": {
  "kernelspec": {
   "display_name": "Python 3 (ipykernel)",
   "language": "python",
   "name": "python3"
  },
  "language_info": {
   "codemirror_mode": {
    "name": "ipython",
    "version": 3
   },
   "file_extension": ".py",
   "mimetype": "text/x-python",
   "name": "python",
   "nbconvert_exporter": "python",
   "pygments_lexer": "ipython3",
   "version": "3.7.10"
  }
 },
 "nbformat": 4,
 "nbformat_minor": 4
}

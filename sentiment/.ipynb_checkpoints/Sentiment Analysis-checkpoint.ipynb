{
 "cells": [
  {
   "cell_type": "code",
   "execution_count": 1,
   "metadata": {},
   "outputs": [],
   "source": [
    "import pandas as pd\n",
    "import numpy"
   ]
  },
  {
   "cell_type": "markdown",
   "metadata": {},
   "source": [
    "# Sentiment analysis"
   ]
  },
  {
   "cell_type": "markdown",
   "metadata": {},
   "source": [
    "- Preprocessing\n",
    "    - remove URLs\n",
    "    - remove Stopwords\n",
    "    - Lemmatization\n",
    "- Sentiment Analysis with nltk"
   ]
  },
  {
   "cell_type": "markdown",
   "metadata": {},
   "source": [
    "# Crawling Tweets with Hashtag '?'"
   ]
  },
  {
   "cell_type": "code",
   "execution_count": 2,
   "metadata": {},
   "outputs": [
    {
     "name": "stdout",
     "output_type": "stream",
     "text": [
      "Requirement already satisfied: tweepy in c:\\users\\lukas\\appdata\\local\\programs\\python\\python36\\lib\\site-packages (4.4.0)\n",
      "Requirement already satisfied: requests<3,>=2.11.1 in c:\\users\\lukas\\appdata\\local\\programs\\python\\python36\\lib\\site-packages (from tweepy) (2.26.0)\n",
      "Requirement already satisfied: requests-oauthlib<2,>=1.0.0 in c:\\users\\lukas\\appdata\\local\\programs\\python\\python36\\lib\\site-packages (from tweepy) (1.3.0)\n",
      "Requirement already satisfied: certifi>=2017.4.17 in c:\\users\\lukas\\appdata\\local\\programs\\python\\python36\\lib\\site-packages (from requests<3,>=2.11.1->tweepy) (2021.10.8)\n",
      "Requirement already satisfied: charset-normalizer~=2.0.0; python_version >= \"3\" in c:\\users\\lukas\\appdata\\local\\programs\\python\\python36\\lib\\site-packages (from requests<3,>=2.11.1->tweepy) (2.0.8)\n",
      "Requirement already satisfied: idna<4,>=2.5; python_version >= \"3\" in c:\\users\\lukas\\appdata\\local\\programs\\python\\python36\\lib\\site-packages (from requests<3,>=2.11.1->tweepy) (3.3)\n",
      "Requirement already satisfied: urllib3<1.27,>=1.21.1 in c:\\users\\lukas\\appdata\\local\\programs\\python\\python36\\lib\\site-packages (from requests<3,>=2.11.1->tweepy) (1.26.7)\n",
      "Requirement already satisfied: oauthlib>=3.0.0 in c:\\users\\lukas\\appdata\\local\\programs\\python\\python36\\lib\\site-packages (from requests-oauthlib<2,>=1.0.0->tweepy) (3.1.1)\n",
      "Note: you may need to restart the kernel to use updated packages.\n"
     ]
    },
    {
     "name": "stderr",
     "output_type": "stream",
     "text": [
      "WARNING: You are using pip version 20.1.1; however, version 21.3.1 is available.\n",
      "You should consider upgrading via the 'c:\\users\\lukas\\appdata\\local\\programs\\python\\python36\\python.exe -m pip install --upgrade pip' command.\n"
     ]
    }
   ],
   "source": [
    "#pip install tweepy"
   ]
  },
  {
   "cell_type": "code",
   "execution_count": 2,
   "metadata": {},
   "outputs": [],
   "source": [
    "import os\n",
    "import tweepy as tw"
   ]
  },
  {
   "cell_type": "code",
   "execution_count": 3,
   "metadata": {},
   "outputs": [],
   "source": [
    "consumer_key= 'vvoCCekgIRltBaA28KPeqV5PH'\n",
    "consumer_secret= 'wbJdfJgPQo6bojNVWtX2FoH8RNXMG7OA7xNis1HOS5tt4E3kN7'\n",
    "access_token= '216684460-uXpFa0MbWSjZyKrLLajc42VELc7GzFZPIs53PV3g'\n",
    "access_token_secret= 'quTUm4pTmVv9Uy2AZanWQcErohcDdoFWzUWg17pLtTriC'\n",
    "\n",
    "auth = tw.OAuthHandler(consumer_key, consumer_secret)\n",
    "auth.set_access_token(access_token, access_token_secret)\n",
    "api = tw.API(auth, wait_on_rate_limit=True)"
   ]
  },
  {
   "cell_type": "code",
   "execution_count": 4,
   "metadata": {},
   "outputs": [],
   "source": [
    "# Define the search term and the date_since date as variables\n",
    "search_words = \"bitcoin\"\n",
    "date_since = \"2021-11-11\""
   ]
  },
  {
   "cell_type": "code",
   "execution_count": 6,
   "metadata": {
    "scrolled": true
   },
   "outputs": [
    {
     "name": "stderr",
     "output_type": "stream",
     "text": [
      "Unexpected parameter: since\n",
      "Unexpected parameter: since\n",
      "Unexpected parameter: since\n",
      "Unexpected parameter: since\n",
      "Unexpected parameter: since\n",
      "Unexpected parameter: since\n",
      "Unexpected parameter: since\n",
      "Unexpected parameter: since\n",
      "Unexpected parameter: since\n",
      "Unexpected parameter: since\n",
      "Unexpected parameter: since\n",
      "Unexpected parameter: since\n",
      "Unexpected parameter: since\n",
      "Unexpected parameter: since\n",
      "Unexpected parameter: since\n",
      "Unexpected parameter: since\n",
      "Unexpected parameter: since\n",
      "Unexpected parameter: since\n",
      "Unexpected parameter: since\n",
      "Unexpected parameter: since\n",
      "Unexpected parameter: since\n",
      "Unexpected parameter: since\n",
      "Unexpected parameter: since\n",
      "Unexpected parameter: since\n",
      "Unexpected parameter: since\n",
      "Unexpected parameter: since\n",
      "Unexpected parameter: since\n",
      "Unexpected parameter: since\n",
      "Unexpected parameter: since\n",
      "Unexpected parameter: since\n",
      "Unexpected parameter: since\n",
      "Unexpected parameter: since\n",
      "Unexpected parameter: since\n",
      "Unexpected parameter: since\n",
      "Unexpected parameter: since\n",
      "Unexpected parameter: since\n",
      "Unexpected parameter: since\n",
      "Unexpected parameter: since\n",
      "Unexpected parameter: since\n",
      "Unexpected parameter: since\n",
      "Unexpected parameter: since\n",
      "Unexpected parameter: since\n",
      "Unexpected parameter: since\n",
      "Unexpected parameter: since\n",
      "Unexpected parameter: since\n",
      "Unexpected parameter: since\n",
      "Unexpected parameter: since\n",
      "Unexpected parameter: since\n",
      "Unexpected parameter: since\n",
      "Unexpected parameter: since\n",
      "Unexpected parameter: since\n",
      "Unexpected parameter: since\n",
      "Unexpected parameter: since\n",
      "Unexpected parameter: since\n",
      "Unexpected parameter: since\n",
      "Unexpected parameter: since\n",
      "Unexpected parameter: since\n",
      "Unexpected parameter: since\n",
      "Unexpected parameter: since\n",
      "Unexpected parameter: since\n",
      "Unexpected parameter: since\n",
      "Unexpected parameter: since\n",
      "Unexpected parameter: since\n",
      "Unexpected parameter: since\n",
      "Unexpected parameter: since\n",
      "Unexpected parameter: since\n",
      "Unexpected parameter: since\n",
      "Unexpected parameter: since\n",
      "Unexpected parameter: since\n",
      "Unexpected parameter: since\n",
      "Unexpected parameter: since\n",
      "Unexpected parameter: since\n",
      "Unexpected parameter: since\n",
      "Unexpected parameter: since\n",
      "Unexpected parameter: since\n",
      "Unexpected parameter: since\n",
      "Unexpected parameter: since\n",
      "Unexpected parameter: since\n",
      "Unexpected parameter: since\n",
      "Unexpected parameter: since\n",
      "Unexpected parameter: since\n",
      "Unexpected parameter: since\n",
      "Unexpected parameter: since\n",
      "Unexpected parameter: since\n",
      "Unexpected parameter: since\n",
      "Unexpected parameter: since\n",
      "Unexpected parameter: since\n",
      "Unexpected parameter: since\n",
      "Unexpected parameter: since\n",
      "Unexpected parameter: since\n",
      "Unexpected parameter: since\n",
      "Unexpected parameter: since\n",
      "Unexpected parameter: since\n",
      "Unexpected parameter: since\n",
      "Unexpected parameter: since\n",
      "Unexpected parameter: since\n",
      "Unexpected parameter: since\n",
      "Unexpected parameter: since\n",
      "Unexpected parameter: since\n",
      "Unexpected parameter: since\n",
      "Unexpected parameter: since\n",
      "Unexpected parameter: since\n",
      "Unexpected parameter: since\n",
      "Unexpected parameter: since\n",
      "Unexpected parameter: since\n",
      "Unexpected parameter: since\n",
      "Unexpected parameter: since\n",
      "Unexpected parameter: since\n",
      "Unexpected parameter: since\n",
      "Unexpected parameter: since\n",
      "Unexpected parameter: since\n",
      "Unexpected parameter: since\n",
      "Unexpected parameter: since\n",
      "Unexpected parameter: since\n",
      "Unexpected parameter: since\n",
      "Unexpected parameter: since\n",
      "Unexpected parameter: since\n",
      "Unexpected parameter: since\n",
      "Unexpected parameter: since\n",
      "Unexpected parameter: since\n",
      "Unexpected parameter: since\n",
      "Unexpected parameter: since\n",
      "Unexpected parameter: since\n",
      "Unexpected parameter: since\n",
      "Unexpected parameter: since\n",
      "Unexpected parameter: since\n",
      "Unexpected parameter: since\n",
      "Unexpected parameter: since\n",
      "Unexpected parameter: since\n",
      "Unexpected parameter: since\n",
      "Unexpected parameter: since\n",
      "Unexpected parameter: since\n",
      "Unexpected parameter: since\n",
      "Unexpected parameter: since\n",
      "Unexpected parameter: since\n",
      "Unexpected parameter: since\n",
      "Unexpected parameter: since\n",
      "Unexpected parameter: since\n",
      "Unexpected parameter: since\n"
     ]
    }
   ],
   "source": [
    "tweets = tw.Cursor(api.search_tweets, \n",
    "                           q=search_words,\n",
    "                           lang=\"en\",\n",
    "                           since=date_since).items(2000)\n",
    "\n",
    "users_tweets = [[tweet.id, tweet.user.screen_name, tweet.text, tweet.created_at] for tweet in tweets]"
   ]
  },
  {
   "cell_type": "code",
   "execution_count": 5,
   "metadata": {
    "scrolled": false
   },
   "outputs": [
    {
     "ename": "NameError",
     "evalue": "name 'users_tweets' is not defined",
     "output_type": "error",
     "traceback": [
      "\u001b[1;31m---------------------------------------------------------------------------\u001b[0m",
      "\u001b[1;31mNameError\u001b[0m                                 Traceback (most recent call last)",
      "\u001b[1;32m<ipython-input-5-1017d6458a35>\u001b[0m in \u001b[0;36m<module>\u001b[1;34m\u001b[0m\n\u001b[0;32m      1\u001b[0m \u001b[1;31m#Open dataframe to use Sentiment Analysis\u001b[0m\u001b[1;33m\u001b[0m\u001b[1;33m\u001b[0m\u001b[1;33m\u001b[0m\u001b[0m\n\u001b[1;32m----> 2\u001b[1;33m tweet_text = pd.DataFrame(data=users_tweets, \n\u001b[0m\u001b[0;32m      3\u001b[0m                     columns=['id', 'user', \"text\", \"created_at\"])\n\u001b[0;32m      4\u001b[0m \u001b[0mtweet_text\u001b[0m\u001b[1;33m\u001b[0m\u001b[1;33m\u001b[0m\u001b[0m\n",
      "\u001b[1;31mNameError\u001b[0m: name 'users_tweets' is not defined"
     ]
    }
   ],
   "source": [
    "#Open dataframe to use Sentiment Analysis\n",
    "tweet_text = pd.DataFrame(data=users_tweets, \n",
    "                    columns=['id', 'user', \"text\", \"created_at\"])\n",
    "tweet_text"
   ]
  },
  {
   "cell_type": "markdown",
   "metadata": {},
   "source": [
    "---"
   ]
  },
  {
   "cell_type": "code",
   "execution_count": 8,
   "metadata": {},
   "outputs": [],
   "source": [
    "#pip install nltk"
   ]
  },
  {
   "cell_type": "code",
   "execution_count": 9,
   "metadata": {
    "scrolled": true
   },
   "outputs": [],
   "source": [
    "import re\n",
    "import nltk\n",
    "from nltk.corpus import stopwords\n",
    "from nltk.stem.porter import PorterStemmer\n",
    "from nltk.sentiment import SentimentIntensityAnalyzer"
   ]
  },
  {
   "cell_type": "markdown",
   "metadata": {},
   "source": [
    "# NLP\n",
    "## Preprocessing"
   ]
  },
  {
   "cell_type": "code",
   "execution_count": 10,
   "metadata": {},
   "outputs": [],
   "source": [
    "dataset = tweet_text"
   ]
  },
  {
   "cell_type": "code",
   "execution_count": 11,
   "metadata": {},
   "outputs": [],
   "source": [
    "#nltk.download('stopwords')\n",
    "#nltk.download('wordnet')\n",
    "#nltk.download('vader_lexicon')"
   ]
  },
  {
   "cell_type": "markdown",
   "metadata": {},
   "source": [
    "Set lowercase, remove punctuation, remove url:\n",
    "- \"no\",\"nor\",\"not\" removed from stopwords because they may be relevant for sentiment\n",
    "- add \"vaccine\" to stopwords because it has little information value"
   ]
  },
  {
   "cell_type": "code",
   "execution_count": 12,
   "metadata": {},
   "outputs": [],
   "source": [
    "def clean_dataset(dataset):\n",
    "    for i in range(0, len(dataset)):\n",
    "        #Tokenize and set words to lowercase \n",
    "        review = dataset[\"text\"][i]\n",
    "        review = ' '.join(re.sub(\"(@[A-Za-z0-9]+)|([^0-9A-Za-z \\t])|(\\w+:\\/\\/\\S+)\",\" \",review).split())\n",
    "        review = re.sub(\"[^a-zA-Z]\", \" \", review)\n",
    "        review = review.lower()\n",
    "        review = review.split()\n",
    "\n",
    "        #stopwords: \n",
    "        all_stopwords = [word for word in stopwords.words(\"english\") if word not in [\"no\",\"nor\",\"not\"]]\n",
    "        all_stopwords.extend([\"a\",\"b\",\"c\",\"d\",\"e\",\"f\",\"g\",\"h\",\"i\",\"j\",\"k\",\"l\",\"m\",\"n\",\"o\",\"p\",\"q\",\"r\",\"s\",\"t\",\"u\",\"v\",\"w\",\"x\",\"y\",\"z\",\"&amp\",\"amp\",\"amp;\",\"&amp;\",\"nhs\"])\n",
    "        #lemmatization:\n",
    "        lemma = nltk.wordnet.WordNetLemmatizer()\n",
    "        review = \" \".join([lemma.lemmatize(word) for word in review if word not in set(all_stopwords)])    \n",
    "        dataset[\"text\"][i] = review\n"
   ]
  },
  {
   "cell_type": "code",
   "execution_count": 13,
   "metadata": {},
   "outputs": [
    {
     "data": {
      "text/html": [
       "<div>\n",
       "<style scoped>\n",
       "    .dataframe tbody tr th:only-of-type {\n",
       "        vertical-align: middle;\n",
       "    }\n",
       "\n",
       "    .dataframe tbody tr th {\n",
       "        vertical-align: top;\n",
       "    }\n",
       "\n",
       "    .dataframe thead th {\n",
       "        text-align: right;\n",
       "    }\n",
       "</style>\n",
       "<table border=\"1\" class=\"dataframe\">\n",
       "  <thead>\n",
       "    <tr style=\"text-align: right;\">\n",
       "      <th></th>\n",
       "      <th>id</th>\n",
       "      <th>user</th>\n",
       "      <th>text</th>\n",
       "      <th>created_at</th>\n",
       "    </tr>\n",
       "  </thead>\n",
       "  <tbody>\n",
       "    <tr>\n",
       "      <th>0</th>\n",
       "      <td>1466093706465869827</td>\n",
       "      <td>alauddinh475</td>\n",
       "      <td>RT @AirdropDet: 🔍 New #Airdrop: Coinweb\\n\\n💲Re...</td>\n",
       "      <td>2021-12-01 17:15:52+00:00</td>\n",
       "    </tr>\n",
       "    <tr>\n",
       "      <th>1</th>\n",
       "      <td>1466093706214215681</td>\n",
       "      <td>BTCHuell</td>\n",
       "      <td>RT @saylor: #Bitcoin is digital energy that is...</td>\n",
       "      <td>2021-12-01 17:15:52+00:00</td>\n",
       "    </tr>\n",
       "    <tr>\n",
       "      <th>2</th>\n",
       "      <td>1466093704377032712</td>\n",
       "      <td>egonypar</td>\n",
       "      <td>RT @airdropinspect: New airdrop: Knight Lab\\nT...</td>\n",
       "      <td>2021-12-01 17:15:52+00:00</td>\n",
       "    </tr>\n",
       "    <tr>\n",
       "      <th>3</th>\n",
       "      <td>1466093704117161998</td>\n",
       "      <td>MichaelWitter13</td>\n",
       "      <td>@maxkeiser El Maximus #Bitcoinius.  We salute ...</td>\n",
       "      <td>2021-12-01 17:15:52+00:00</td>\n",
       "    </tr>\n",
       "    <tr>\n",
       "      <th>4</th>\n",
       "      <td>1466093703089426435</td>\n",
       "      <td>Krypt0lyst</td>\n",
       "      <td>RT @BTC_Archive: 💥BREAKING: The biggest superm...</td>\n",
       "      <td>2021-12-01 17:15:52+00:00</td>\n",
       "    </tr>\n",
       "    <tr>\n",
       "      <th>...</th>\n",
       "      <td>...</td>\n",
       "      <td>...</td>\n",
       "      <td>...</td>\n",
       "      <td>...</td>\n",
       "    </tr>\n",
       "    <tr>\n",
       "      <th>1995</th>\n",
       "      <td>1466091509279694860</td>\n",
       "      <td>ginnororo</td>\n",
       "      <td>RT @saifedean: Since Turkish president Erdogan...</td>\n",
       "      <td>2021-12-01 17:07:09+00:00</td>\n",
       "    </tr>\n",
       "    <tr>\n",
       "      <th>1996</th>\n",
       "      <td>1466091507803312133</td>\n",
       "      <td>Sunflowerssss15</td>\n",
       "      <td>@kuyawat @youhodl_bitcoin Done all rules Bismi...</td>\n",
       "      <td>2021-12-01 17:07:08+00:00</td>\n",
       "    </tr>\n",
       "    <tr>\n",
       "      <th>1997</th>\n",
       "      <td>1466091506180231170</td>\n",
       "      <td>Muhamma28809517</td>\n",
       "      <td>RT @AirdropStario: 💧 PLS2E 2nd Round Airdrop 💧...</td>\n",
       "      <td>2021-12-01 17:07:08+00:00</td>\n",
       "    </tr>\n",
       "    <tr>\n",
       "      <th>1998</th>\n",
       "      <td>1466091503336312833</td>\n",
       "      <td>alamgir143098</td>\n",
       "      <td>RT @AirdropDet: 🔍 New #Airdrop: MetaGaming Gui...</td>\n",
       "      <td>2021-12-01 17:07:07+00:00</td>\n",
       "    </tr>\n",
       "    <tr>\n",
       "      <th>1999</th>\n",
       "      <td>1466091502908674049</td>\n",
       "      <td>JisuCrypto</td>\n",
       "      <td>RT @JesseOlson: I think 7% have transacted wit...</td>\n",
       "      <td>2021-12-01 17:07:07+00:00</td>\n",
       "    </tr>\n",
       "  </tbody>\n",
       "</table>\n",
       "<p>2000 rows × 4 columns</p>\n",
       "</div>"
      ],
      "text/plain": [
       "                       id             user  \\\n",
       "0     1466093706465869827     alauddinh475   \n",
       "1     1466093706214215681         BTCHuell   \n",
       "2     1466093704377032712         egonypar   \n",
       "3     1466093704117161998  MichaelWitter13   \n",
       "4     1466093703089426435       Krypt0lyst   \n",
       "...                   ...              ...   \n",
       "1995  1466091509279694860        ginnororo   \n",
       "1996  1466091507803312133  Sunflowerssss15   \n",
       "1997  1466091506180231170  Muhamma28809517   \n",
       "1998  1466091503336312833    alamgir143098   \n",
       "1999  1466091502908674049       JisuCrypto   \n",
       "\n",
       "                                                   text  \\\n",
       "0     RT @AirdropDet: 🔍 New #Airdrop: Coinweb\\n\\n💲Re...   \n",
       "1     RT @saylor: #Bitcoin is digital energy that is...   \n",
       "2     RT @airdropinspect: New airdrop: Knight Lab\\nT...   \n",
       "3     @maxkeiser El Maximus #Bitcoinius.  We salute ...   \n",
       "4     RT @BTC_Archive: 💥BREAKING: The biggest superm...   \n",
       "...                                                 ...   \n",
       "1995  RT @saifedean: Since Turkish president Erdogan...   \n",
       "1996  @kuyawat @youhodl_bitcoin Done all rules Bismi...   \n",
       "1997  RT @AirdropStario: 💧 PLS2E 2nd Round Airdrop 💧...   \n",
       "1998  RT @AirdropDet: 🔍 New #Airdrop: MetaGaming Gui...   \n",
       "1999  RT @JesseOlson: I think 7% have transacted wit...   \n",
       "\n",
       "                    created_at  \n",
       "0    2021-12-01 17:15:52+00:00  \n",
       "1    2021-12-01 17:15:52+00:00  \n",
       "2    2021-12-01 17:15:52+00:00  \n",
       "3    2021-12-01 17:15:52+00:00  \n",
       "4    2021-12-01 17:15:52+00:00  \n",
       "...                        ...  \n",
       "1995 2021-12-01 17:07:09+00:00  \n",
       "1996 2021-12-01 17:07:08+00:00  \n",
       "1997 2021-12-01 17:07:08+00:00  \n",
       "1998 2021-12-01 17:07:07+00:00  \n",
       "1999 2021-12-01 17:07:07+00:00  \n",
       "\n",
       "[2000 rows x 4 columns]"
      ]
     },
     "execution_count": 13,
     "metadata": {},
     "output_type": "execute_result"
    }
   ],
   "source": [
    "dataset"
   ]
  },
  {
   "cell_type": "markdown",
   "metadata": {},
   "source": [
    "## Sentiment Analysis with nltk"
   ]
  },
  {
   "cell_type": "code",
   "execution_count": 14,
   "metadata": {},
   "outputs": [],
   "source": [
    "tweet_text[\"sentiment\"] = dict\n",
    "tweet_text[\"sentiment_compound\"] = 0.0"
   ]
  },
  {
   "cell_type": "markdown",
   "metadata": {},
   "source": [
    "Determine sentiment via NLTK.Sentiment:\n",
    "- Values range from [-1, 1]\n",
    "- -1 is negative, 0 is neutral, 1 is positive"
   ]
  },
  {
   "cell_type": "code",
   "execution_count": 15,
   "metadata": {},
   "outputs": [],
   "source": [
    "def sentiment_score(dataset):\n",
    "    sia = SentimentIntensityAnalyzer()\n",
    "    for i in range(len(dataset)):\n",
    "        dataset[\"sentiment\"][i] = sia.polarity_scores(dataset[\"text\"][i])\n",
    "        dataset[\"sentiment_compound\"][i] = dataset[\"sentiment\"][i][\"compound\"]"
   ]
  },
  {
   "cell_type": "code",
   "execution_count": 16,
   "metadata": {},
   "outputs": [
    {
     "name": "stderr",
     "output_type": "stream",
     "text": [
      "c:\\users\\lukas\\appdata\\local\\programs\\python\\python36\\lib\\site-packages\\ipykernel_launcher.py:4: SettingWithCopyWarning: \n",
      "A value is trying to be set on a copy of a slice from a DataFrame\n",
      "\n",
      "See the caveats in the documentation: https://pandas.pydata.org/pandas-docs/stable/user_guide/indexing.html#returning-a-view-versus-a-copy\n",
      "  after removing the cwd from sys.path.\n",
      "c:\\users\\lukas\\appdata\\local\\programs\\python\\python36\\lib\\site-packages\\ipykernel_launcher.py:5: SettingWithCopyWarning: \n",
      "A value is trying to be set on a copy of a slice from a DataFrame\n",
      "\n",
      "See the caveats in the documentation: https://pandas.pydata.org/pandas-docs/stable/user_guide/indexing.html#returning-a-view-versus-a-copy\n",
      "  \"\"\"\n"
     ]
    }
   ],
   "source": [
    "sentiment_score(tweet_text)"
   ]
  },
  {
   "cell_type": "code",
   "execution_count": 17,
   "metadata": {},
   "outputs": [
    {
     "data": {
      "text/html": [
       "<div>\n",
       "<style scoped>\n",
       "    .dataframe tbody tr th:only-of-type {\n",
       "        vertical-align: middle;\n",
       "    }\n",
       "\n",
       "    .dataframe tbody tr th {\n",
       "        vertical-align: top;\n",
       "    }\n",
       "\n",
       "    .dataframe thead th {\n",
       "        text-align: right;\n",
       "    }\n",
       "</style>\n",
       "<table border=\"1\" class=\"dataframe\">\n",
       "  <thead>\n",
       "    <tr style=\"text-align: right;\">\n",
       "      <th></th>\n",
       "      <th>id</th>\n",
       "      <th>user</th>\n",
       "      <th>text</th>\n",
       "      <th>created_at</th>\n",
       "      <th>sentiment</th>\n",
       "      <th>sentiment_compound</th>\n",
       "    </tr>\n",
       "  </thead>\n",
       "  <tbody>\n",
       "    <tr>\n",
       "      <th>0</th>\n",
       "      <td>1466093706465869827</td>\n",
       "      <td>alauddinh475</td>\n",
       "      <td>RT @AirdropDet: 🔍 New #Airdrop: Coinweb\\n\\n💲Re...</td>\n",
       "      <td>2021-12-01 17:15:52+00:00</td>\n",
       "      <td>{'neg': 0.0, 'neu': 0.847, 'pos': 0.153, 'comp...</td>\n",
       "      <td>0.4215</td>\n",
       "    </tr>\n",
       "    <tr>\n",
       "      <th>1</th>\n",
       "      <td>1466093706214215681</td>\n",
       "      <td>BTCHuell</td>\n",
       "      <td>RT @saylor: #Bitcoin is digital energy that is...</td>\n",
       "      <td>2021-12-01 17:15:52+00:00</td>\n",
       "      <td>{'neg': 0.0, 'neu': 0.573, 'pos': 0.427, 'comp...</td>\n",
       "      <td>0.8020</td>\n",
       "    </tr>\n",
       "    <tr>\n",
       "      <th>2</th>\n",
       "      <td>1466093704377032712</td>\n",
       "      <td>egonypar</td>\n",
       "      <td>RT @airdropinspect: New airdrop: Knight Lab\\nT...</td>\n",
       "      <td>2021-12-01 17:15:52+00:00</td>\n",
       "      <td>{'neg': 0.0, 'neu': 0.676, 'pos': 0.324, 'comp...</td>\n",
       "      <td>0.8625</td>\n",
       "    </tr>\n",
       "    <tr>\n",
       "      <th>3</th>\n",
       "      <td>1466093704117161998</td>\n",
       "      <td>MichaelWitter13</td>\n",
       "      <td>@maxkeiser El Maximus #Bitcoinius.  We salute ...</td>\n",
       "      <td>2021-12-01 17:15:52+00:00</td>\n",
       "      <td>{'neg': 0.0, 'neu': 1.0, 'pos': 0.0, 'compound...</td>\n",
       "      <td>0.0000</td>\n",
       "    </tr>\n",
       "    <tr>\n",
       "      <th>4</th>\n",
       "      <td>1466093703089426435</td>\n",
       "      <td>Krypt0lyst</td>\n",
       "      <td>RT @BTC_Archive: 💥BREAKING: The biggest superm...</td>\n",
       "      <td>2021-12-01 17:15:52+00:00</td>\n",
       "      <td>{'neg': 0.0, 'neu': 0.834, 'pos': 0.166, 'comp...</td>\n",
       "      <td>0.3802</td>\n",
       "    </tr>\n",
       "    <tr>\n",
       "      <th>...</th>\n",
       "      <td>...</td>\n",
       "      <td>...</td>\n",
       "      <td>...</td>\n",
       "      <td>...</td>\n",
       "      <td>...</td>\n",
       "      <td>...</td>\n",
       "    </tr>\n",
       "    <tr>\n",
       "      <th>1995</th>\n",
       "      <td>1466091509279694860</td>\n",
       "      <td>ginnororo</td>\n",
       "      <td>RT @saifedean: Since Turkish president Erdogan...</td>\n",
       "      <td>2021-12-01 17:07:09+00:00</td>\n",
       "      <td>{'neg': 0.151, 'neu': 0.849, 'pos': 0.0, 'comp...</td>\n",
       "      <td>-0.5994</td>\n",
       "    </tr>\n",
       "    <tr>\n",
       "      <th>1996</th>\n",
       "      <td>1466091507803312133</td>\n",
       "      <td>Sunflowerssss15</td>\n",
       "      <td>@kuyawat @youhodl_bitcoin Done all rules Bismi...</td>\n",
       "      <td>2021-12-01 17:07:08+00:00</td>\n",
       "      <td>{'neg': 0.0, 'neu': 0.556, 'pos': 0.444, 'comp...</td>\n",
       "      <td>0.9042</td>\n",
       "    </tr>\n",
       "    <tr>\n",
       "      <th>1997</th>\n",
       "      <td>1466091506180231170</td>\n",
       "      <td>Muhamma28809517</td>\n",
       "      <td>RT @AirdropStario: 💧 PLS2E 2nd Round Airdrop 💧...</td>\n",
       "      <td>2021-12-01 17:07:08+00:00</td>\n",
       "      <td>{'neg': 0.0, 'neu': 1.0, 'pos': 0.0, 'compound...</td>\n",
       "      <td>0.0000</td>\n",
       "    </tr>\n",
       "    <tr>\n",
       "      <th>1998</th>\n",
       "      <td>1466091503336312833</td>\n",
       "      <td>alamgir143098</td>\n",
       "      <td>RT @AirdropDet: 🔍 New #Airdrop: MetaGaming Gui...</td>\n",
       "      <td>2021-12-01 17:07:07+00:00</td>\n",
       "      <td>{'neg': 0.0, 'neu': 1.0, 'pos': 0.0, 'compound...</td>\n",
       "      <td>0.0000</td>\n",
       "    </tr>\n",
       "    <tr>\n",
       "      <th>1999</th>\n",
       "      <td>1466091502908674049</td>\n",
       "      <td>JisuCrypto</td>\n",
       "      <td>RT @JesseOlson: I think 7% have transacted wit...</td>\n",
       "      <td>2021-12-01 17:07:07+00:00</td>\n",
       "      <td>{'neg': 0.0, 'neu': 1.0, 'pos': 0.0, 'compound...</td>\n",
       "      <td>0.0000</td>\n",
       "    </tr>\n",
       "  </tbody>\n",
       "</table>\n",
       "<p>2000 rows × 6 columns</p>\n",
       "</div>"
      ],
      "text/plain": [
       "                       id             user  \\\n",
       "0     1466093706465869827     alauddinh475   \n",
       "1     1466093706214215681         BTCHuell   \n",
       "2     1466093704377032712         egonypar   \n",
       "3     1466093704117161998  MichaelWitter13   \n",
       "4     1466093703089426435       Krypt0lyst   \n",
       "...                   ...              ...   \n",
       "1995  1466091509279694860        ginnororo   \n",
       "1996  1466091507803312133  Sunflowerssss15   \n",
       "1997  1466091506180231170  Muhamma28809517   \n",
       "1998  1466091503336312833    alamgir143098   \n",
       "1999  1466091502908674049       JisuCrypto   \n",
       "\n",
       "                                                   text  \\\n",
       "0     RT @AirdropDet: 🔍 New #Airdrop: Coinweb\\n\\n💲Re...   \n",
       "1     RT @saylor: #Bitcoin is digital energy that is...   \n",
       "2     RT @airdropinspect: New airdrop: Knight Lab\\nT...   \n",
       "3     @maxkeiser El Maximus #Bitcoinius.  We salute ...   \n",
       "4     RT @BTC_Archive: 💥BREAKING: The biggest superm...   \n",
       "...                                                 ...   \n",
       "1995  RT @saifedean: Since Turkish president Erdogan...   \n",
       "1996  @kuyawat @youhodl_bitcoin Done all rules Bismi...   \n",
       "1997  RT @AirdropStario: 💧 PLS2E 2nd Round Airdrop 💧...   \n",
       "1998  RT @AirdropDet: 🔍 New #Airdrop: MetaGaming Gui...   \n",
       "1999  RT @JesseOlson: I think 7% have transacted wit...   \n",
       "\n",
       "                    created_at  \\\n",
       "0    2021-12-01 17:15:52+00:00   \n",
       "1    2021-12-01 17:15:52+00:00   \n",
       "2    2021-12-01 17:15:52+00:00   \n",
       "3    2021-12-01 17:15:52+00:00   \n",
       "4    2021-12-01 17:15:52+00:00   \n",
       "...                        ...   \n",
       "1995 2021-12-01 17:07:09+00:00   \n",
       "1996 2021-12-01 17:07:08+00:00   \n",
       "1997 2021-12-01 17:07:08+00:00   \n",
       "1998 2021-12-01 17:07:07+00:00   \n",
       "1999 2021-12-01 17:07:07+00:00   \n",
       "\n",
       "                                              sentiment  sentiment_compound  \n",
       "0     {'neg': 0.0, 'neu': 0.847, 'pos': 0.153, 'comp...              0.4215  \n",
       "1     {'neg': 0.0, 'neu': 0.573, 'pos': 0.427, 'comp...              0.8020  \n",
       "2     {'neg': 0.0, 'neu': 0.676, 'pos': 0.324, 'comp...              0.8625  \n",
       "3     {'neg': 0.0, 'neu': 1.0, 'pos': 0.0, 'compound...              0.0000  \n",
       "4     {'neg': 0.0, 'neu': 0.834, 'pos': 0.166, 'comp...              0.3802  \n",
       "...                                                 ...                 ...  \n",
       "1995  {'neg': 0.151, 'neu': 0.849, 'pos': 0.0, 'comp...             -0.5994  \n",
       "1996  {'neg': 0.0, 'neu': 0.556, 'pos': 0.444, 'comp...              0.9042  \n",
       "1997  {'neg': 0.0, 'neu': 1.0, 'pos': 0.0, 'compound...              0.0000  \n",
       "1998  {'neg': 0.0, 'neu': 1.0, 'pos': 0.0, 'compound...              0.0000  \n",
       "1999  {'neg': 0.0, 'neu': 1.0, 'pos': 0.0, 'compound...              0.0000  \n",
       "\n",
       "[2000 rows x 6 columns]"
      ]
     },
     "execution_count": 17,
     "metadata": {},
     "output_type": "execute_result"
    }
   ],
   "source": [
    "tweet_text"
   ]
  },
  {
   "cell_type": "markdown",
   "metadata": {},
   "source": [
    "Sort dataset by sentiment and create a sub-dataset with location only:"
   ]
  },
  {
   "cell_type": "code",
   "execution_count": 18,
   "metadata": {},
   "outputs": [],
   "source": [
    "clean_bitcoin_tweets = tweet_text.sort_values(\"sentiment_compound\", ascending=False, ignore_index=True)"
   ]
  },
  {
   "cell_type": "markdown",
   "metadata": {},
   "source": [
    "---"
   ]
  },
  {
   "cell_type": "markdown",
   "metadata": {},
   "source": [
    "Export:"
   ]
  },
  {
   "cell_type": "code",
   "execution_count": 19,
   "metadata": {},
   "outputs": [
    {
     "ename": "FileNotFoundError",
     "evalue": "[Errno 2] No such file or directory: '../sentiment/saved_sentiment_data/clean_bitcoin_tweets.csv'",
     "output_type": "error",
     "traceback": [
      "\u001b[1;31m---------------------------------------------------------------------------\u001b[0m",
      "\u001b[1;31mFileNotFoundError\u001b[0m                         Traceback (most recent call last)",
      "\u001b[1;32m<ipython-input-19-95b12c7b8867>\u001b[0m in \u001b[0;36m<module>\u001b[1;34m\u001b[0m\n\u001b[1;32m----> 1\u001b[1;33m \u001b[0mclean_bitcoin_tweets\u001b[0m\u001b[1;33m.\u001b[0m\u001b[0mto_csv\u001b[0m\u001b[1;33m(\u001b[0m\u001b[1;34m\"../sentiment/saved_sentiment_data/clean_bitcoin_tweets.csv\"\u001b[0m\u001b[1;33m)\u001b[0m\u001b[1;33m\u001b[0m\u001b[1;33m\u001b[0m\u001b[0m\n\u001b[0m",
      "\u001b[1;32mc:\\users\\lukas\\appdata\\local\\programs\\python\\python36\\lib\\site-packages\\pandas\\core\\generic.py\u001b[0m in \u001b[0;36mto_csv\u001b[1;34m(self, path_or_buf, sep, na_rep, float_format, columns, header, index, index_label, mode, encoding, compression, quoting, quotechar, line_terminator, chunksize, date_format, doublequote, escapechar, decimal)\u001b[0m\n\u001b[0;32m   3202\u001b[0m             \u001b[0mdecimal\u001b[0m\u001b[1;33m=\u001b[0m\u001b[0mdecimal\u001b[0m\u001b[1;33m,\u001b[0m\u001b[1;33m\u001b[0m\u001b[1;33m\u001b[0m\u001b[0m\n\u001b[0;32m   3203\u001b[0m         )\n\u001b[1;32m-> 3204\u001b[1;33m         \u001b[0mformatter\u001b[0m\u001b[1;33m.\u001b[0m\u001b[0msave\u001b[0m\u001b[1;33m(\u001b[0m\u001b[1;33m)\u001b[0m\u001b[1;33m\u001b[0m\u001b[1;33m\u001b[0m\u001b[0m\n\u001b[0m\u001b[0;32m   3205\u001b[0m \u001b[1;33m\u001b[0m\u001b[0m\n\u001b[0;32m   3206\u001b[0m         \u001b[1;32mif\u001b[0m \u001b[0mpath_or_buf\u001b[0m \u001b[1;32mis\u001b[0m \u001b[1;32mNone\u001b[0m\u001b[1;33m:\u001b[0m\u001b[1;33m\u001b[0m\u001b[1;33m\u001b[0m\u001b[0m\n",
      "\u001b[1;32mc:\\users\\lukas\\appdata\\local\\programs\\python\\python36\\lib\\site-packages\\pandas\\io\\formats\\csvs.py\u001b[0m in \u001b[0;36msave\u001b[1;34m(self)\u001b[0m\n\u001b[0;32m    186\u001b[0m                 \u001b[0mself\u001b[0m\u001b[1;33m.\u001b[0m\u001b[0mmode\u001b[0m\u001b[1;33m,\u001b[0m\u001b[1;33m\u001b[0m\u001b[1;33m\u001b[0m\u001b[0m\n\u001b[0;32m    187\u001b[0m                 \u001b[0mencoding\u001b[0m\u001b[1;33m=\u001b[0m\u001b[0mself\u001b[0m\u001b[1;33m.\u001b[0m\u001b[0mencoding\u001b[0m\u001b[1;33m,\u001b[0m\u001b[1;33m\u001b[0m\u001b[1;33m\u001b[0m\u001b[0m\n\u001b[1;32m--> 188\u001b[1;33m                 \u001b[0mcompression\u001b[0m\u001b[1;33m=\u001b[0m\u001b[0mdict\u001b[0m\u001b[1;33m(\u001b[0m\u001b[0mself\u001b[0m\u001b[1;33m.\u001b[0m\u001b[0mcompression_args\u001b[0m\u001b[1;33m,\u001b[0m \u001b[0mmethod\u001b[0m\u001b[1;33m=\u001b[0m\u001b[0mself\u001b[0m\u001b[1;33m.\u001b[0m\u001b[0mcompression\u001b[0m\u001b[1;33m)\u001b[0m\u001b[1;33m,\u001b[0m\u001b[1;33m\u001b[0m\u001b[1;33m\u001b[0m\u001b[0m\n\u001b[0m\u001b[0;32m    189\u001b[0m             )\n\u001b[0;32m    190\u001b[0m             \u001b[0mclose\u001b[0m \u001b[1;33m=\u001b[0m \u001b[1;32mTrue\u001b[0m\u001b[1;33m\u001b[0m\u001b[1;33m\u001b[0m\u001b[0m\n",
      "\u001b[1;32mc:\\users\\lukas\\appdata\\local\\programs\\python\\python36\\lib\\site-packages\\pandas\\io\\common.py\u001b[0m in \u001b[0;36mget_handle\u001b[1;34m(path_or_buf, mode, encoding, compression, memory_map, is_text)\u001b[0m\n\u001b[0;32m    426\u001b[0m         \u001b[1;32mif\u001b[0m \u001b[0mencoding\u001b[0m\u001b[1;33m:\u001b[0m\u001b[1;33m\u001b[0m\u001b[1;33m\u001b[0m\u001b[0m\n\u001b[0;32m    427\u001b[0m             \u001b[1;31m# Encoding\u001b[0m\u001b[1;33m\u001b[0m\u001b[1;33m\u001b[0m\u001b[1;33m\u001b[0m\u001b[0m\n\u001b[1;32m--> 428\u001b[1;33m             \u001b[0mf\u001b[0m \u001b[1;33m=\u001b[0m \u001b[0mopen\u001b[0m\u001b[1;33m(\u001b[0m\u001b[0mpath_or_buf\u001b[0m\u001b[1;33m,\u001b[0m \u001b[0mmode\u001b[0m\u001b[1;33m,\u001b[0m \u001b[0mencoding\u001b[0m\u001b[1;33m=\u001b[0m\u001b[0mencoding\u001b[0m\u001b[1;33m,\u001b[0m \u001b[0mnewline\u001b[0m\u001b[1;33m=\u001b[0m\u001b[1;34m\"\"\u001b[0m\u001b[1;33m)\u001b[0m\u001b[1;33m\u001b[0m\u001b[1;33m\u001b[0m\u001b[0m\n\u001b[0m\u001b[0;32m    429\u001b[0m         \u001b[1;32melif\u001b[0m \u001b[0mis_text\u001b[0m\u001b[1;33m:\u001b[0m\u001b[1;33m\u001b[0m\u001b[1;33m\u001b[0m\u001b[0m\n\u001b[0;32m    430\u001b[0m             \u001b[1;31m# No explicit encoding\u001b[0m\u001b[1;33m\u001b[0m\u001b[1;33m\u001b[0m\u001b[1;33m\u001b[0m\u001b[0m\n",
      "\u001b[1;31mFileNotFoundError\u001b[0m: [Errno 2] No such file or directory: '../sentiment/saved_sentiment_data/clean_bitcoin_tweets.csv'"
     ]
    }
   ],
   "source": [
    "clean_bitcoin_tweets.to_csv(\"../sentiment/saved_sentiment_data/clean_bitcoin_tweets.csv\")"
   ]
  }
 ],
 "metadata": {
  "kernelspec": {
   "display_name": "Python 3",
   "language": "python",
   "name": "python3"
  },
  "language_info": {
   "codemirror_mode": {
    "name": "ipython",
    "version": 3
   },
   "file_extension": ".py",
   "mimetype": "text/x-python",
   "name": "python",
   "nbconvert_exporter": "python",
   "pygments_lexer": "ipython3",
   "version": "3.6.8"
  }
 },
 "nbformat": 4,
 "nbformat_minor": 4
}
